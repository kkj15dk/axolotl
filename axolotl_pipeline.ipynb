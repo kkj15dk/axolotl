{
 "cells": [
  {
   "cell_type": "code",
   "execution_count": 7,
   "metadata": {},
   "outputs": [
    {
     "name": "stdout",
     "output_type": "stream",
     "text": [
      "sequence before and after masking:\n",
      "[MGLSDGEWQLVLNVWGKVEADVAGHGQ]\n",
      "[_____GEWQL_____GKVEAD_A_HGQ]\n",
      "length of sequence after preprocessing: 29\n"
     ]
    }
   ],
   "source": [
    "import sys\n",
    "import subprocess\n",
    "from typing import List\n",
    "\n",
    "sequence = \"MGLSDGEWQLVLNVWGKVEADVAGHGQ\"\n",
    "label = \"eukaryotic\"\n",
    "input_locs = None\n",
    "masked_locs = [(0,5), (10,15), 21, 23]\n",
    "length = len(sequence)\n",
    "add_bos = True\n",
    "add_eos = True\n",
    "output = \"samples_cond.fasta\"\n",
    "\n",
    "masked_sequence = sequence\n",
    "for il in masked_locs:\n",
    "    if type(il) == tuple:\n",
    "        masked_sequence = masked_sequence[:il[0]] + \"_\"*(il[1]-il[0]) + masked_sequence[il[1]:]\n",
    "    elif type(il) == int:\n",
    "        masked_sequence = masked_sequence[:il] + \"_\" + masked_sequence[il+1:]\n",
    "if add_bos:\n",
    "    masked_sequence = \"[\" + masked_sequence\n",
    "    sequence = \"[\" + sequence\n",
    "    length += 1\n",
    "if add_eos:\n",
    "    masked_sequence = masked_sequence + \"]\"\n",
    "    sequence = sequence + \"]\"\n",
    "    length += 1\n",
    "print(\"sequence before and after masking:\")\n",
    "print(sequence)\n",
    "print(masked_sequence)\n",
    "print(\"length of sequence after preprocessing:\", length)"
   ]
  },
  {
   "cell_type": "code",
   "execution_count": 8,
   "metadata": {},
   "outputs": [
    {
     "name": "stdout",
     "output_type": "stream",
     "text": [
      "[_____GEWQL_____GKVEAD_A_HGQ]\n",
      "input_locs: [0, 6, 7, 8, 9, 10, 16, 17, 18, 19, 20, 21, 23, 25, 26, 27, 28]\n",
      "input_sequence: [GEWQLGKVEADAHGQ]\n"
     ]
    }
   ],
   "source": [
    "print(masked_sequence)\n",
    "\n",
    "# preprocess to get the correct input format\n",
    "input_locs = []\n",
    "for i, c in enumerate(masked_sequence):\n",
    "    if c != \"_\":\n",
    "        input_locs.append(i)\n",
    "input_sequence = \"\".join([masked_sequence[i] for i in input_locs])\n",
    "\n",
    "print(\"input_locs:\", input_locs)\n",
    "print(\"input_sequence:\", input_sequence)"
   ]
  },
  {
   "cell_type": "code",
   "execution_count": 9,
   "metadata": {},
   "outputs": [
    {
     "name": "stderr",
     "output_type": "stream",
     "text": [
      "config.json not found in /home/kkj/axolotl/pretrained/IPR036736_90_grouped/2025.01.29/143108\n",
      "Sampling: 100%|██████████| 128/128 [00:01<00:00, 69.53it/s]"
     ]
    },
    {
     "name": "stdout",
     "output_type": "stream",
     "text": [
      "Writing samples to samples_cond.fasta\n"
     ]
    },
    {
     "name": "stderr",
     "output_type": "stream",
     "text": [
      "\n"
     ]
    }
   ],
   "source": [
    "from sample_cond import sample_conditional\n",
    "from transformers import PreTrainedTokenizerFast\n",
    "# run the axolotl model\n",
    "\n",
    "tokenizer = PreTrainedTokenizerFast.from_pretrained('/home/kkj/axolotl/tokenizer/tokenizer_absorb')\n",
    "\n",
    "\n",
    "sample_conditional(\n",
    "    model_path = \"/home/kkj/axolotl/pretrained/IPR036736_90_grouped/2025.01.29/143108\",\n",
    "    tokenizer = tokenizer,\n",
    "    input = input_sequence,\n",
    "    input_locations = input_locs,\n",
    "    length = length,\n",
    "    batch_size = 1,\n",
    "    steps = 128,\n",
    "    cfg_w = 0.75,\n",
    "    label = \"eukaryotic\",\n",
    "    output = output,\n",
    ")"
   ]
  },
  {
   "cell_type": "code",
   "execution_count": null,
   "metadata": {},
   "outputs": [
    {
     "ename": "CalledProcessError",
     "evalue": "Command '['boltz', 'predict', 'temp', '--use_msa_server', '--accelerator', 'gpu', '--num_workers', '2', '--output_format', 'pdb', '--out_dir', 'temp_boltz_output']' died with <Signals.SIGKILL: 9>.",
     "output_type": "error",
     "traceback": [
      "\u001b[0;31m---------------------------------------------------------------------------\u001b[0m",
      "\u001b[0;31mCalledProcessError\u001b[0m                        Traceback (most recent call last)",
      "Cell \u001b[0;32mIn[10], line 31\u001b[0m\n\u001b[1;32m     29\u001b[0m num_workers \u001b[38;5;241m=\u001b[39m \u001b[38;5;241m2\u001b[39m\n\u001b[1;32m     30\u001b[0m output_format \u001b[38;5;241m=\u001b[39m \u001b[38;5;124m\"\u001b[39m\u001b[38;5;124mpdb\u001b[39m\u001b[38;5;124m\"\u001b[39m \u001b[38;5;66;03m# \"mmcif\" or \"pdb\"\u001b[39;00m\n\u001b[0;32m---> 31\u001b[0m \u001b[43msubprocess\u001b[49m\u001b[38;5;241;43m.\u001b[39;49m\u001b[43mrun\u001b[49m\u001b[43m(\u001b[49m\u001b[43m[\u001b[49m\u001b[38;5;124;43m\"\u001b[39;49m\u001b[38;5;124;43mboltz\u001b[39;49m\u001b[38;5;124;43m\"\u001b[39;49m\u001b[43m,\u001b[49m\u001b[43m \u001b[49m\u001b[38;5;124;43m\"\u001b[39;49m\u001b[38;5;124;43mpredict\u001b[39;49m\u001b[38;5;124;43m\"\u001b[39;49m\u001b[43m,\u001b[49m\u001b[43m \u001b[49m\u001b[43mtemp_folder\u001b[49m\u001b[43m,\u001b[49m\u001b[43m \u001b[49m\u001b[38;5;124;43m\"\u001b[39;49m\u001b[38;5;124;43m--use_msa_server\u001b[39;49m\u001b[38;5;124;43m\"\u001b[39;49m\u001b[43m,\u001b[49m\u001b[43m \u001b[49m\u001b[38;5;124;43m\"\u001b[39;49m\u001b[38;5;124;43m--accelerator\u001b[39;49m\u001b[38;5;124;43m\"\u001b[39;49m\u001b[43m,\u001b[49m\u001b[43m \u001b[49m\u001b[38;5;124;43m\"\u001b[39;49m\u001b[38;5;124;43mgpu\u001b[39;49m\u001b[38;5;124;43m\"\u001b[39;49m\u001b[43m,\u001b[49m\u001b[43m \u001b[49m\u001b[38;5;124;43m\"\u001b[39;49m\u001b[38;5;124;43m--num_workers\u001b[39;49m\u001b[38;5;124;43m\"\u001b[39;49m\u001b[43m,\u001b[49m\u001b[43m \u001b[49m\u001b[38;5;28;43mstr\u001b[39;49m\u001b[43m(\u001b[49m\u001b[43mnum_workers\u001b[49m\u001b[43m)\u001b[49m\u001b[43m,\u001b[49m\u001b[43m \u001b[49m\u001b[38;5;124;43m\"\u001b[39;49m\u001b[38;5;124;43m--output_format\u001b[39;49m\u001b[38;5;124;43m\"\u001b[39;49m\u001b[43m,\u001b[49m\u001b[43m \u001b[49m\u001b[43moutput_format\u001b[49m\u001b[43m,\u001b[49m\u001b[43m \u001b[49m\u001b[38;5;124;43m\"\u001b[39;49m\u001b[38;5;124;43m--out_dir\u001b[39;49m\u001b[38;5;124;43m\"\u001b[39;49m\u001b[43m,\u001b[49m\u001b[43m \u001b[49m\u001b[38;5;124;43mf\u001b[39;49m\u001b[38;5;124;43m\"\u001b[39;49m\u001b[38;5;132;43;01m{\u001b[39;49;00m\u001b[43mtemp_folder\u001b[49m\u001b[38;5;132;43;01m}\u001b[39;49;00m\u001b[38;5;124;43m_boltz_output\u001b[39;49m\u001b[38;5;124;43m\"\u001b[39;49m\u001b[43m]\u001b[49m\u001b[43m,\u001b[49m\n\u001b[1;32m     32\u001b[0m \u001b[43m    \u001b[49m\u001b[43mcheck\u001b[49m\u001b[38;5;241;43m=\u001b[39;49m\u001b[38;5;28;43;01mTrue\u001b[39;49;00m\u001b[43m,\u001b[49m\u001b[43m \u001b[49m\u001b[43mcapture_output\u001b[49m\u001b[38;5;241;43m=\u001b[39;49m\u001b[38;5;28;43;01mTrue\u001b[39;49;00m\u001b[43m)\u001b[49m\n",
      "File \u001b[0;32m/usr/lib/python3.10/subprocess.py:526\u001b[0m, in \u001b[0;36mrun\u001b[0;34m(input, capture_output, timeout, check, *popenargs, **kwargs)\u001b[0m\n\u001b[1;32m    524\u001b[0m     retcode \u001b[38;5;241m=\u001b[39m process\u001b[38;5;241m.\u001b[39mpoll()\n\u001b[1;32m    525\u001b[0m     \u001b[38;5;28;01mif\u001b[39;00m check \u001b[38;5;129;01mand\u001b[39;00m retcode:\n\u001b[0;32m--> 526\u001b[0m         \u001b[38;5;28;01mraise\u001b[39;00m CalledProcessError(retcode, process\u001b[38;5;241m.\u001b[39margs,\n\u001b[1;32m    527\u001b[0m                                  output\u001b[38;5;241m=\u001b[39mstdout, stderr\u001b[38;5;241m=\u001b[39mstderr)\n\u001b[1;32m    528\u001b[0m \u001b[38;5;28;01mreturn\u001b[39;00m CompletedProcess(process\u001b[38;5;241m.\u001b[39margs, retcode, stdout, stderr)\n",
      "\u001b[0;31mCalledProcessError\u001b[0m: Command '['boltz', 'predict', 'temp', '--use_msa_server', '--accelerator', 'gpu', '--num_workers', '2', '--output_format', 'pdb', '--out_dir', 'temp_boltz_output']' died with <Signals.SIGKILL: 9>."
     ]
    }
   ],
   "source": [
    "from Bio import SeqIO\n",
    "from Bio.SeqRecord import SeqRecord\n",
    "from Bio.Seq import Seq\n",
    "import os\n",
    "import warnings\n",
    "\n",
    "# make a temp folder to store the input for boltz-1\n",
    "# this is because boltz-1 requires the input to be in separate files\n",
    "# convert to valid fasta format\n",
    "\n",
    "folding_model = \"chai-1\" # one of \"boltz-1\" and \"chai-1\"\n",
    "temp_folder = \"temp\"\n",
    "os.makedirs(temp_folder, exist_ok=True)\n",
    "\n",
    "for i, record in enumerate(SeqIO.parse(output, \"fasta\")):\n",
    "\n",
    "    sequence = str(record.seq)\n",
    "    id = record.id\n",
    "\n",
    "    if not (\"[\" in sequence and \"]\" in sequence):\n",
    "        warnings.warn(f\"Sequence {i} does not have start and end tokens\")\n",
    "\n",
    "    sequence = sequence.replace(\"[\", \"\").replace(\"]\", \"\").replace(\"?\", \"X\")\n",
    "\n",
    "    with open(f\"{temp_folder}/{i}.fasta\", \"w\") as f:\n",
    "        if folding_model == \"boltz-1\":\n",
    "            f.write(f\">{i}|protein|empty\\n\") # If you wish to explicitly run single sequence mode (which is generally advised against as it will hurt model performance), you may do so by using the special keyword empty for that protein (ex: >A|protein|empty)\n",
    "        elif folding_model == \"chai-1\":\n",
    "            f.write(f\">protein|name={id}\")\n",
    "        f.write(str(sequence) + \"\\n\")\n",
    "\n",
    "# run through boltz-1 to fold\n",
    "import subprocess\n",
    "num_workers = 2\n",
    "output_format = \"pdb\" # \"mmcif\" or \"pdb\"\n",
    "subprocess.run([\"boltz\", \"predict\", temp_folder, \"--use_msa_server\", \"--accelerator\", \"gpu\", \"--num_workers\", str(num_workers), \"--output_format\", output_format, \"--out_dir\", f\"{temp_folder}_boltz_output\"],\n",
    "    check=True, capture_output=True)\n"
   ]
  },
  {
   "cell_type": "code",
   "execution_count": null,
   "metadata": {},
   "outputs": [],
   "source": [
    "# visualize using pymol"
   ]
  }
 ],
 "metadata": {
  "kernelspec": {
   "display_name": ".venv",
   "language": "python",
   "name": "python3"
  },
  "language_info": {
   "codemirror_mode": {
    "name": "ipython",
    "version": 3
   },
   "file_extension": ".py",
   "mimetype": "text/x-python",
   "name": "python",
   "nbconvert_exporter": "python",
   "pygments_lexer": "ipython3",
   "version": "3.10.12"
  }
 },
 "nbformat": 4,
 "nbformat_minor": 2
}
