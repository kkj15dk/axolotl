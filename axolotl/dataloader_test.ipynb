{
 "cells": [
  {
   "cell_type": "code",
   "execution_count": null,
   "metadata": {},
   "outputs": [],
   "source": [
    "import data_nested as data\n",
    "import torch\n",
    "\n",
    "train_dl, eval_dl = data.get_dataloaders(128,\n",
    "                                            128,\n",
    "                                            1,\n",
    "                                            1,\n",
    "                                            '/home/kkj/axolotl/datasets/IPR036736_90_grouped/train',\n",
    "                                            '/home/kkj/axolotl/datasets/IPR036736_90_grouped/valid',\n",
    "                                            1024,\n",
    "                                            False,\n",
    "                                            4, # num_workers\n",
    "                                            distributed=False,\n",
    ")\n",
    "\n",
    "train_iter = iter(train_dl)\n",
    "eval_iter = iter(eval_dl)"
   ]
  },
  {
   "cell_type": "code",
   "execution_count": null,
   "metadata": {},
   "outputs": [],
   "source": [
    "print('train')\n",
    "for i, batch in enumerate(train_iter):\n",
    "    seq_lens: torch.Tensor = batch['input_ids'].offsets().diff()\n",
    "    if i % 100 == 0:\n",
    "        print(i, seq_lens.sum())\n",
    "    \n",
    "    if seq_lens.all():\n",
    "        pass\n",
    "    else:\n",
    "        print(i, seq_lens)\n",
    "        print(seq_lens.sum())\n",
    "        raise ValueError('seq_lens not all')"
   ]
  },
  {
   "cell_type": "code",
   "execution_count": null,
   "metadata": {},
   "outputs": [],
   "source": []
  }
 ],
 "metadata": {
  "kernelspec": {
   "display_name": ".venv",
   "language": "python",
   "name": "python3"
  },
  "language_info": {
   "codemirror_mode": {
    "name": "ipython",
    "version": 3
   },
   "file_extension": ".py",
   "mimetype": "text/x-python",
   "name": "python",
   "nbconvert_exporter": "python",
   "pygments_lexer": "ipython3",
   "version": "3.10.12"
  }
 },
 "nbformat": 4,
 "nbformat_minor": 2
}
