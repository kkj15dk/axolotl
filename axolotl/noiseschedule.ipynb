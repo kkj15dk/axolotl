{
 "cells": [
  {
   "cell_type": "code",
   "execution_count": 1,
   "metadata": {},
   "outputs": [],
   "source": [
    "import noise_lib as noise\n",
    "import torch"
   ]
  },
  {
   "cell_type": "code",
   "execution_count": 2,
   "metadata": {},
   "outputs": [],
   "source": [
    "lin = noise.LinearScheduler()\n",
    "loglin = noise.LogLinearNoise()"
   ]
  },
  {
   "cell_type": "code",
   "execution_count": 3,
   "metadata": {},
   "outputs": [],
   "source": [
    "t = torch.rand(10)"
   ]
  },
  {
   "cell_type": "code",
   "execution_count": 4,
   "metadata": {},
   "outputs": [
    {
     "name": "stdout",
     "output_type": "stream",
     "text": [
      "(tensor([2.1909, 0.6105, 3.6513, 0.4094, 3.8419, 0.5213, 0.0214, 0.3970, 1.2179,\n",
      "        0.1792]), tensor([ 8.9414,  1.8409, 38.5174,  1.5057, 46.6048,  1.6838,  1.0214,  1.4870,\n",
      "         3.3796,  1.1961]))\n",
      "(tensor([2.1837, 0.6096, 3.6180, 0.4089, 3.8016, 0.5205, 0.0213, 0.3964, 1.2157,\n",
      "        0.1790]), tensor([ 8.8700,  1.8379, 37.2256,  1.5036, 44.7267,  1.6813,  1.0205,  1.4850,\n",
      "         3.3693,  1.1948]))\n"
     ]
    }
   ],
   "source": [
    "print(lin(t))\n",
    "print(loglin(t))"
   ]
  },
  {
   "cell_type": "code",
   "execution_count": null,
   "metadata": {},
   "outputs": [],
   "source": []
  }
 ],
 "metadata": {
  "kernelspec": {
   "display_name": ".venv",
   "language": "python",
   "name": "python3"
  },
  "language_info": {
   "codemirror_mode": {
    "name": "ipython",
    "version": 3
   },
   "file_extension": ".py",
   "mimetype": "text/x-python",
   "name": "python",
   "nbconvert_exporter": "python",
   "pygments_lexer": "ipython3",
   "version": "3.10.12"
  }
 },
 "nbformat": 4,
 "nbformat_minor": 2
}
