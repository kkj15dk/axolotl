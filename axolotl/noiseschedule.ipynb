{
 "cells": [
  {
   "cell_type": "code",
   "execution_count": 1,
   "metadata": {},
   "outputs": [],
   "source": [
    "import noise_lib as noise\n",
    "import torch"
   ]
  },
  {
   "cell_type": "code",
   "execution_count": 2,
   "metadata": {},
   "outputs": [
    {
     "ename": "AttributeError",
     "evalue": "module 'noise_lib' has no attribute 'LogLinearNoise'",
     "output_type": "error",
     "traceback": [
      "\u001b[0;31m---------------------------------------------------------------------------\u001b[0m",
      "\u001b[0;31mAttributeError\u001b[0m                            Traceback (most recent call last)",
      "Cell \u001b[0;32mIn[2], line 2\u001b[0m\n\u001b[1;32m      1\u001b[0m lin \u001b[38;5;241m=\u001b[39m noise\u001b[38;5;241m.\u001b[39mLinearScheduler()\n\u001b[0;32m----> 2\u001b[0m loglin \u001b[38;5;241m=\u001b[39m \u001b[43mnoise\u001b[49m\u001b[38;5;241;43m.\u001b[39;49m\u001b[43mLogLinearNoise\u001b[49m()\n",
      "\u001b[0;31mAttributeError\u001b[0m: module 'noise_lib' has no attribute 'LogLinearNoise'"
     ]
    }
   ],
   "source": [
    "lin = noise.LinearScheduler()\n",
    "loglin = noise.LogLinearNoise()"
   ]
  },
  {
   "cell_type": "code",
   "execution_count": null,
   "metadata": {},
   "outputs": [],
   "source": [
    "t = torch.rand(10)"
   ]
  },
  {
   "cell_type": "code",
   "execution_count": null,
   "metadata": {},
   "outputs": [],
   "source": [
    "print(lin(t))\n",
    "print(loglin(t))"
   ]
  },
  {
   "cell_type": "code",
   "execution_count": 4,
   "metadata": {},
   "outputs": [
    {
     "name": "stdout",
     "output_type": "stream",
     "text": [
      "tensor([[[0.7203, 0.5053, 0.4941, 0.5619],\n",
      "         [0.2747, 0.1647, 0.3684, 0.7579],\n",
      "         [0.8783, 0.5932, 0.8331, 0.8432],\n",
      "         [0.8175, 0.7256, 0.3571, 0.3283],\n",
      "         [0.3813, 0.2622, 0.6627, 0.6528],\n",
      "         [0.2288, 0.3083, 0.5572, 0.0766],\n",
      "         [0.8380, 0.3457, 0.1197, 0.9616],\n",
      "         [0.3713, 0.6574, 0.5857, 0.0202],\n",
      "         [0.7191, 0.7085, 0.1949, 0.3752],\n",
      "         [0.0601, 0.8544, 0.5920, 0.5702]]])\n",
      "tensor([[3, 2, 0, 3, 0, 0, 2, 1, 2, 0]])\n",
      "tensor([[[0.7203, 0.5053, 0.4941, 0.0000],\n",
      "         [0.2747, 0.1647, 0.0000, 0.7579],\n",
      "         [0.0000, 0.5932, 0.8331, 0.8432],\n",
      "         [0.8175, 0.7256, 0.3571, 0.0000],\n",
      "         [0.0000, 0.2622, 0.6627, 0.6528],\n",
      "         [0.0000, 0.3083, 0.5572, 0.0766],\n",
      "         [0.8380, 0.3457, 0.0000, 0.9616],\n",
      "         [0.3713, 0.0000, 0.5857, 0.0202],\n",
      "         [0.7191, 0.7085, 0.0000, 0.3752],\n",
      "         [0.0000, 0.8544, 0.5920, 0.5702]]])\n"
     ]
    }
   ],
   "source": [
    "x = torch.rand(1, 10, 4)\n",
    "indices = torch.randint(0, 4, (1, 10))\n",
    "print(x)\n",
    "print(indices)\n",
    "x = torch.scatter(x, -1, indices[..., None], torch.zeros_like(x[..., :1]))\n",
    "print(x)"
   ]
  }
 ],
 "metadata": {
  "kernelspec": {
   "display_name": ".venv",
   "language": "python",
   "name": "python3"
  },
  "language_info": {
   "codemirror_mode": {
    "name": "ipython",
    "version": 3
   },
   "file_extension": ".py",
   "mimetype": "text/x-python",
   "name": "python",
   "nbconvert_exporter": "python",
   "pygments_lexer": "ipython3",
   "version": "3.10.12"
  }
 },
 "nbformat": 4,
 "nbformat_minor": 2
}
