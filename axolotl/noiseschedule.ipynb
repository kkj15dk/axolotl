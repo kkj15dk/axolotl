{
 "cells": [
  {
   "cell_type": "code",
   "execution_count": 1,
   "metadata": {},
   "outputs": [],
   "source": [
    "import noise_lib as noise\n",
    "import torch"
   ]
  },
  {
   "cell_type": "code",
   "execution_count": 2,
   "metadata": {},
   "outputs": [],
   "source": [
    "lin = noise.LinearScheduler()\n",
    "loglin = noise.LogLinearNoise()"
   ]
  },
  {
   "cell_type": "code",
   "execution_count": 3,
   "metadata": {},
   "outputs": [],
   "source": [
    "t = torch.rand(10)"
   ]
  },
  {
   "cell_type": "code",
   "execution_count": 8,
   "metadata": {},
   "outputs": [
    {
     "name": "stdout",
     "output_type": "stream",
     "text": [
      "(tensor([2.1098, 1.3751, 3.1749, 3.1907, 0.7738, 1.1837, 0.0426, 2.3578, 0.0854,\n",
      "        2.2461]), tensor([ 8.2451,  3.9546, 23.9206, 24.3007,  2.1676,  3.2659,  1.0433, 10.5652,\n",
      "         1.0890,  9.4491]))\n",
      "(tensor([2.1032, 1.3723, 3.1544, 3.1698, 0.7727, 1.1816, 0.0424, 2.3491, 0.0853,\n",
      "        2.2384]), tensor([ 8.1843,  3.9406, 23.4159, 23.7801,  2.1634,  3.2563,  1.0423, 10.4656,\n",
      "         1.0879,  9.3693]))\n",
      "(tensor(9.2103), tensor(9998.0010))\n",
      "(tensor(6.9078), tensor(999.0129))\n"
     ]
    }
   ],
   "source": [
    "print(lin(t, beta=True, dbeta=True))\n",
    "print(loglin(t))\n",
    "print(lin(torch.tensor(1), beta=True, dbeta=True))\n",
    "print(loglin(torch.tensor(1)))"
   ]
  },
  {
   "cell_type": "code",
   "execution_count": null,
   "metadata": {},
   "outputs": [],
   "source": [
    "x = torch.rand(1, 10, 4)\n",
    "indices = torch.randint(0, 4, (1, 10))\n",
    "print(x)\n",
    "print(indices)\n",
    "x = torch.scatter(x, -1, indices[..., None], torch.zeros_like(x[..., :1]))\n",
    "print(x)"
   ]
  }
 ],
 "metadata": {
  "kernelspec": {
   "display_name": ".venv",
   "language": "python",
   "name": "python3"
  },
  "language_info": {
   "codemirror_mode": {
    "name": "ipython",
    "version": 3
   },
   "file_extension": ".py",
   "mimetype": "text/x-python",
   "name": "python",
   "nbconvert_exporter": "python",
   "pygments_lexer": "ipython3",
   "version": "3.10.12"
  }
 },
 "nbformat": 4,
 "nbformat_minor": 2
}
