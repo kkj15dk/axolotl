{
 "cells": [
  {
   "cell_type": "code",
   "execution_count": 1,
   "metadata": {},
   "outputs": [],
   "source": [
    "import noise_lib as noise\n",
    "import torch"
   ]
  },
  {
   "cell_type": "code",
   "execution_count": 2,
   "metadata": {},
   "outputs": [],
   "source": [
    "lin = noise.LinearScheduler()\n",
    "loglin = noise.LogLinearNoise()"
   ]
  },
  {
   "cell_type": "code",
   "execution_count": 3,
   "metadata": {},
   "outputs": [],
   "source": [
    "t = torch.rand(10)"
   ]
  },
  {
   "cell_type": "code",
   "execution_count": 4,
   "metadata": {},
   "outputs": [
    {
     "name": "stdout",
     "output_type": "stream",
     "text": [
      "(tensor([0.1558, 0.2787, 0.6942, 0.4146, 0.8383, 1.6981, 1.5362, 4.9611, 1.0620,\n",
      "        2.1588]), tensor([  1.1683,   1.3211,   2.0018,   1.5134,   2.3120,   5.4622,   4.6458,\n",
      "        142.7277,   2.8916,   8.6590]))\n",
      "(tensor([0.1555, 0.2783, 0.6932, 0.4140, 0.8370, 1.6939, 1.5328, 4.8410, 1.0602,\n",
      "        2.1518]), tensor([  1.1671,   1.3196,   1.9982,   1.5113,   2.3072,   5.4355,   4.6264,\n",
      "        126.4652,   2.8841,   8.5920]))\n",
      "(tensor(9.2103), tensor(9998.0010))\n",
      "(tensor(6.9078), tensor(999.0129))\n"
     ]
    }
   ],
   "source": [
    "print(lin(t, beta=True, dbeta=True))\n",
    "print(loglin(t))\n",
    "print(lin(torch.tensor(1), beta=True, dbeta=True))\n",
    "print(loglin(torch.tensor(1)))"
   ]
  },
  {
   "cell_type": "code",
   "execution_count": 5,
   "metadata": {},
   "outputs": [
    {
     "name": "stdout",
     "output_type": "stream",
     "text": [
      "tensor([[[0.8668, 0.4040, 0.0088, 0.2288],\n",
      "         [0.1743, 0.7855, 0.7190, 0.7696],\n",
      "         [0.8698, 0.1853, 0.3008, 0.6823],\n",
      "         [0.2253, 0.8633, 0.1385, 0.5825],\n",
      "         [0.6496, 0.6449, 0.4059, 0.9445],\n",
      "         [0.1519, 0.6850, 0.7111, 0.5642],\n",
      "         [0.0538, 0.1374, 0.5368, 0.9450],\n",
      "         [0.8430, 0.5064, 0.1835, 0.0333],\n",
      "         [0.3901, 0.4026, 0.4167, 0.2508],\n",
      "         [0.3853, 0.5700, 0.1396, 0.9623]]])\n",
      "tensor([[3, 1, 2, 0, 0, 3, 3, 2, 3, 3]])\n",
      "tensor([[[0.8668, 0.4040, 0.0088, 0.0000],\n",
      "         [0.1743, 0.0000, 0.7190, 0.7696],\n",
      "         [0.8698, 0.1853, 0.0000, 0.6823],\n",
      "         [0.0000, 0.8633, 0.1385, 0.5825],\n",
      "         [0.0000, 0.6449, 0.4059, 0.9445],\n",
      "         [0.1519, 0.6850, 0.7111, 0.0000],\n",
      "         [0.0538, 0.1374, 0.5368, 0.0000],\n",
      "         [0.8430, 0.5064, 0.0000, 0.0333],\n",
      "         [0.3901, 0.4026, 0.4167, 0.0000],\n",
      "         [0.3853, 0.5700, 0.1396, 0.0000]]])\n"
     ]
    }
   ],
   "source": [
    "x = torch.rand(1, 10, 4)\n",
    "indices = torch.randint(0, 4, (1, 10))\n",
    "print(x)\n",
    "print(indices)\n",
    "x = torch.scatter(x, -1, indices[..., None], torch.zeros_like(x[..., :1]))\n",
    "print(x)"
   ]
  },
  {
   "cell_type": "code",
   "execution_count": null,
   "metadata": {},
   "outputs": [],
   "source": []
  }
 ],
 "metadata": {
  "kernelspec": {
   "display_name": ".venv",
   "language": "python",
   "name": "python3"
  },
  "language_info": {
   "codemirror_mode": {
    "name": "ipython",
    "version": 3
   },
   "file_extension": ".py",
   "mimetype": "text/x-python",
   "name": "python",
   "nbconvert_exporter": "python",
   "pygments_lexer": "ipython3",
   "version": "3.10.12"
  }
 },
 "nbformat": 4,
 "nbformat_minor": 2
}
