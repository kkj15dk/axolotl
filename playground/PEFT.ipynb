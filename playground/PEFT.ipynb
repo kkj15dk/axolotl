{
 "cells": [
  {
   "cell_type": "code",
   "execution_count": 1,
   "metadata": {},
   "outputs": [
    {
     "name": "stderr",
     "output_type": "stream",
     "text": [
      "/home/kkj/axolotl/.venv/lib/python3.10/site-packages/tqdm/auto.py:21: TqdmWarning: IProgress not found. Please update jupyter and ipywidgets. See https://ipywidgets.readthedocs.io/en/stable/user_install.html\n",
      "  from .autonotebook import tqdm as notebook_tqdm\n"
     ]
    }
   ],
   "source": [
    "import sys\n",
    "sys.path.append('../')\n",
    "\n",
    "from axolotl.model.transformer import SEDD\n",
    "import torch\n",
    "import torch.nn as nn\n",
    "\n",
    "config = {\n",
    "    'model': {\n",
    "        'name': 'small',\n",
    "        'type': 'ddit',\n",
    "        'hidden_size': 768,\n",
    "        'cond_dim': 128,\n",
    "        'length': 4096,\n",
    "        'n_blocks': 12,\n",
    "        'n_heads': 12,\n",
    "        'scale_by_sigma': True,\n",
    "        'dropout': 0.1,\n",
    "        'label_dropout': 0.1, # for classifier-free guidance (cfg)\n",
    "    },\n",
    "    \n",
    "    'graph': {\n",
    "        'type': 'absorb',\n",
    "    },\n",
    "    'ngpus': 1,\n",
    "    'tokens': 23, # 23 for uniform\n",
    "    'num_labels': 2, # prokaryotic (0), eukaryotic (1)\n",
    "}"
   ]
  },
  {
   "cell_type": "code",
   "execution_count": 4,
   "metadata": {},
   "outputs": [
    {
     "name": "stdout",
     "output_type": "stream",
     "text": [
      "trainable params: 448,704 || all params: 92,885,848 || trainable%: 0.4831\n"
     ]
    }
   ],
   "source": [
    "from peft import get_peft_model, LoraConfig, TaskType\n",
    "\n",
    "\n",
    "model = SEDD(config).to('cuda')\n",
    "\n",
    "peft_config = LoraConfig(\n",
    "    target_modules=[\"qkv_proj\", \"fc\", \"out_proj\"], # TODO? , 'mlp', timestep embedding, positional embedding, class embedding\n",
    "    inference_mode=False,\n",
    "    r=8,\n",
    "    lora_alpha=32,\n",
    "    lora_dropout=0.1,\n",
    "    bias='none',\n",
    ")\n",
    "\n",
    "# for module in model.named_modules():\n",
    "#     print(module)\n",
    "peft_model = get_peft_model(model, peft_config)\n",
    "peft_model.print_trainable_parameters()\n",
    "\n",
    "# for module in peft_model.named_modules():\n",
    "#     print(module)"
   ]
  }
 ],
 "metadata": {
  "kernelspec": {
   "display_name": ".venv",
   "language": "python",
   "name": "python3"
  },
  "language_info": {
   "codemirror_mode": {
    "name": "ipython",
    "version": 3
   },
   "file_extension": ".py",
   "mimetype": "text/x-python",
   "name": "python",
   "nbconvert_exporter": "python",
   "pygments_lexer": "ipython3",
   "version": "3.10.12"
  }
 },
 "nbformat": 4,
 "nbformat_minor": 2
}
