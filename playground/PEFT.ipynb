{
 "cells": [
  {
   "cell_type": "code",
   "execution_count": 2,
   "metadata": {},
   "outputs": [],
   "source": [
    "import sys\n",
    "sys.path.append('../')\n",
    "\n",
    "from axolotl.model.transformer import SEDD\n",
    "import torch\n",
    "import torch.nn as nn\n",
    "\n",
    "config = {\n",
    "    'model': {\n",
    "        'name': 'small',\n",
    "        'type': 'ddit',\n",
    "        'hidden_size': 768,\n",
    "        'cond_dim': 128,\n",
    "        'length': 4096,\n",
    "        'n_blocks': 12,\n",
    "        'n_heads': 12,\n",
    "        'scale_by_sigma': True,\n",
    "        'dropout': 0.1,\n",
    "        'label_dropout': 0.1, # for classifier-free guidance (cfg)\n",
    "    },\n",
    "    \n",
    "    'graph': {\n",
    "        'type': 'absorb',\n",
    "    },\n",
    "    'ngpus': 1,\n",
    "    'tokens': 23, # 23 for uniform\n",
    "    'num_labels': 2, # prokaryotic (0), eukaryotic (1)\n",
    "}\n",
    "\n",
    "device = 'cuda' if torch.cuda.is_available() else 'cpu'\n",
    "model = SEDD(config).to(device)"
   ]
  },
  {
   "cell_type": "code",
   "execution_count": null,
   "metadata": {},
   "outputs": [],
   "source": []
  }
 ],
 "metadata": {
  "kernelspec": {
   "display_name": ".venv",
   "language": "python",
   "name": "python3"
  },
  "language_info": {
   "codemirror_mode": {
    "name": "ipython",
    "version": 3
   },
   "file_extension": ".py",
   "mimetype": "text/x-python",
   "name": "python",
   "nbconvert_exporter": "python",
   "pygments_lexer": "ipython3",
   "version": "3.10.12"
  }
 },
 "nbformat": 4,
 "nbformat_minor": 2
}
