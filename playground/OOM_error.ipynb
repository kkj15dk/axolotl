{
 "cells": [
  {
   "cell_type": "code",
   "execution_count": 1,
   "id": "11e6d731",
   "metadata": {},
   "outputs": [
    {
     "name": "stderr",
     "output_type": "stream",
     "text": [
      "/home/kkj/axolotl/.venv/lib/python3.10/site-packages/tqdm/auto.py:21: TqdmWarning: IProgress not found. Please update jupyter and ipywidgets. See https://ipywidgets.readthedocs.io/en/stable/user_install.html\n",
      "  from .autonotebook import tqdm as notebook_tqdm\n"
     ]
    }
   ],
   "source": [
    "import torch\n",
    "from datasets import load_from_disk"
   ]
  },
  {
   "cell_type": "code",
   "execution_count": 2,
   "id": "fca456ee",
   "metadata": {},
   "outputs": [],
   "source": [
    "dataset = load_from_disk('/home/kkj/protein_databases/UniRef50_unclustered/train')  # Replace with your dataset path\n",
    "dataset = dataset.with_format(\"torch\")"
   ]
  },
  {
   "cell_type": "code",
   "execution_count": 6,
   "id": "a9849e24",
   "metadata": {},
   "outputs": [
    {
     "name": "stdout",
     "output_type": "stream",
     "text": [
      "{'clusterid': tensor(41770791), 'proteinid': 'UniRef50_UPI001026B08C', 'cluster_size': tensor(1), 'input_ids': tensor([21, 10,  9, 17, 12,  4,  9,  7, 10,  9, 14,  3,  5,  7,  3,  0,  0,  9,\n",
      "         7, 17,  5,  7,  7,  0, 15, 19,  9,  8, 13, 16,  5, 14,  5,  3, 18, 10,\n",
      "        12,  0, 17, 18,  7,  5, 17,  4,  9,  0, 17,  0,  9, 15,  9,  4, 17,  5,\n",
      "         5,  5,  9,  3,  9, 10, 15,  0,  3,  4, 12, 13,  8, 13, 13,  3,  9,  4,\n",
      "         3,  5,  7, 17,  5,  9,  7,  0, 17,  5,  7,  9, 15, 15, 10, 17,  4, 18,\n",
      "        10, 14,  8, 17,  0, 14, 15,  7,  8,  6,  0,  9,  6,  3, 15,  9,  2,  0,\n",
      "         0,  9, 16,  5, 15,  8, 11, 13, 16, 19,  0,  9,  7,  0, 10, 17,  4,  4,\n",
      "         0, 17,  0, 14,  3,  5,  9,  3, 16, 17,  4,  4,  9,  9,  0, 17,  4, 13,\n",
      "        13, 15,  3,  5, 12,  5,  0, 12, 17,  5, 22]), 'label': tensor(0), 'length': tensor(155)}\n",
      "{'clusterid': tensor(33242972), 'proteinid': 'UniRef50_A0A815UCJ9', 'cluster_size': tensor(1), 'input_ids': tensor([21, 10, 19,  8,  8, 14, 14,  0,  2,  7, 14,  3,  8,  9, 15, 11, 16, 11,\n",
      "        11,  7, 15,  9, 15,  0,  2,  7, 18, 13, 15, 11,  5,  8, 15,  6,  4,  7,\n",
      "         5,  9, 16,  0, 13, 19, 19,  2,  2,  2, 19, 13, 19,  6, 16, 10, 17,  7,\n",
      "         0,  4, 14, 14,  4,  7,  5,  8,  6, 15,  0,  2, 14,  9,  3, 14,  4,  7,\n",
      "         0,  8,  3,  7, 11,  8,  9,  5,  7,  8, 15,  8, 17,  1,  0,  7, 16, 16,\n",
      "         2, 11,  5,  5,  2,  7, 14,  1,  0, 16, 13, 14,  9, 15,  8,  4,  5,  7,\n",
      "         8,  7, 15,  1,  7,  9,  6, 11,  9, 11,  9,  7, 16, 13, 11,  5,  9, 18,\n",
      "         9,  4,  3,  7, 12,  8,  8,  7, 15, 16, 15,  9,  8,  7, 11, 11, 16, 16,\n",
      "        11,  0, 16,  8, 15, 16, 15,  2,  4,  2,  2, 19, 15, 15,  2,  2,  2,  6,\n",
      "        14,  9,  7, 10,  2,  2, 11,  2,  7,  9,  2, 16,  7, 15, 11, 19, 15,  2,\n",
      "        15, 15, 11, 15, 15,  8,  5,  3, 11, 15, 15,  8,  2, 15, 16, 16, 15, 15,\n",
      "        15, 15, 16,  2,  3, 15, 22]), 'label': tensor(1), 'length': tensor(205)}\n",
      "{'clusterid': tensor(53263720), 'proteinid': 'UniRef50_A0A8T5IST3', 'cluster_size': tensor(1), 'input_ids': tensor([21, 10, 17, 16,  2, 11,  7, 13,  7,  9,  5, 10,  3,  5,  4,  2,  3,  8,\n",
      "         3, 14,  3,  8,  7,  9, 15, 19, 15,  3, 11, 19,  6,  8,  8,  7,  8, 14,\n",
      "         2,  7, 12,  1,  8,  9, 17,  9,  6,  0,  8,  8,  6,  2,  8, 17,  5,  5,\n",
      "        14,  1, 10, 19, 15,  4,  6,  0,  8, 17, 13,  9, 12,  2,  6,  9, 17, 11,\n",
      "        17,  3,  2,  5,  2, 18,  7,  9, 15, 16,  0,  9,  6,  8, 17,  9,  8,  8,\n",
      "        17,  3, 11, 11,  7,  8,  6,  8, 17, 14, 11,  6, 22]), 'label': tensor(2), 'length': tensor(103)}\n"
     ]
    }
   ],
   "source": [
    "search_label = 0\n",
    "for item in dataset:\n",
    "    if item['label'] == 0 and search_label == 0:\n",
    "        print(item)\n",
    "        search_label = 1\n",
    "    elif item['label'] == 1 and search_label == 1:\n",
    "        print(item)\n",
    "        search_label = 2\n",
    "    elif item['label'] == 2 and search_label == 2:\n",
    "        print(item)\n",
    "        search_label = 3\n",
    "        break"
   ]
  },
  {
   "cell_type": "code",
   "execution_count": null,
   "id": "879a4cd3",
   "metadata": {},
   "outputs": [],
   "source": []
  }
 ],
 "metadata": {
  "kernelspec": {
   "display_name": ".venv",
   "language": "python",
   "name": "python3"
  },
  "language_info": {
   "codemirror_mode": {
    "name": "ipython",
    "version": 3
   },
   "file_extension": ".py",
   "mimetype": "text/x-python",
   "name": "python",
   "nbconvert_exporter": "python",
   "pygments_lexer": "ipython3",
   "version": "3.10.12"
  }
 },
 "nbformat": 4,
 "nbformat_minor": 5
}
