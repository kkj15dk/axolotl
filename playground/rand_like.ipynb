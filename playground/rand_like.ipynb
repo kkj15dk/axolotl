{
 "cells": [
  {
   "cell_type": "code",
   "execution_count": 1,
   "metadata": {},
   "outputs": [],
   "source": [
    "import torch"
   ]
  },
  {
   "cell_type": "code",
   "execution_count": 5,
   "metadata": {},
   "outputs": [
    {
     "name": "stdout",
     "output_type": "stream",
     "text": [
      "NestedTensor(size=(4, j4, 24), offsets=tensor([ 0, 23, 73, 83, 88]), contiguous=True)\n",
      "NestedTensor(size=(4, j4, 24), offsets=tensor([ 0, 23, 73, 83, 88]), contiguous=True)\n",
      "NestedTensor(size=(4, j4, 24), offsets=tensor([ 0, 23, 73, 83, 88]), contiguous=True)\n"
     ]
    }
   ],
   "source": [
    "move_chance = 0.5\n",
    "d = 24\n",
    "\n",
    "nt = torch.nested.nested_tensor([\n",
    "    torch.randn(23, d),\n",
    "    torch.randn(50, d),\n",
    "    torch.randn(10, d),\n",
    "    torch.randn(5, d),\n",
    "], layout=torch.jagged)\n",
    "\n",
    "move_indices = torch.rand_like(nt) < move_chance\n",
    "i_pert = torch.where(move_indices, d - 1, nt)\n",
    "i_pert_uniform = torch.where(move_indices, torch.randint_like(nt, d), nt)\n",
    "print(move_indices)\n",
    "print(i_pert)\n",
    "print(i_pert_uniform)"
   ]
  }
 ],
 "metadata": {
  "kernelspec": {
   "display_name": ".venv",
   "language": "python",
   "name": "python3"
  },
  "language_info": {
   "codemirror_mode": {
    "name": "ipython",
    "version": 3
   },
   "file_extension": ".py",
   "mimetype": "text/x-python",
   "name": "python",
   "nbconvert_exporter": "python",
   "pygments_lexer": "ipython3",
   "version": "3.10.12"
  }
 },
 "nbformat": 4,
 "nbformat_minor": 2
}
