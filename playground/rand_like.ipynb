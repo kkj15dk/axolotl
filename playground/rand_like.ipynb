{
 "cells": [
  {
   "cell_type": "code",
   "execution_count": 1,
   "metadata": {},
   "outputs": [],
   "source": [
    "import torch"
   ]
  },
  {
   "cell_type": "code",
   "execution_count": 23,
   "metadata": {},
   "outputs": [
    {
     "name": "stdout",
     "output_type": "stream",
     "text": [
      "NestedTensor(size=(4, j15, 24), offsets=tensor([ 0, 23, 73, 86, 98]), contiguous=True)\n",
      "NestedTensor(size=(4, j15, 24), offsets=tensor([ 0, 23, 73, 86, 98]), contiguous=True)\n",
      "NestedTensor(size=(4, j15, 24), offsets=tensor([ 0, 23, 73, 86, 98]), contiguous=True)\n"
     ]
    }
   ],
   "source": [
    "move_chance = 0.5\n",
    "d = 24\n",
    "\n",
    "nt = torch.nested.nested_tensor([\n",
    "    torch.randint(0, 24, (23, d)),\n",
    "    torch.randint(0, 24, (50, d)),\n",
    "    torch.randint(0, 24, (13, d)),\n",
    "    torch.randint(0, 24, (12, d)),\n",
    "], layout=torch.jagged)\n",
    "\n",
    "move_indices = torch.rand_like(nt.float()) < move_chance\n",
    "i_pert = torch.where(move_indices, d - 1, nt)\n",
    "i_pert_uniform = torch.where(move_indices, torch.randint_like(nt, d), nt)\n",
    "print(move_indices)\n",
    "print(i_pert)\n",
    "print(i_pert_uniform)"
   ]
  },
  {
   "cell_type": "code",
   "execution_count": 21,
   "metadata": {},
   "outputs": [
    {
     "name": "stdout",
     "output_type": "stream",
     "text": [
      "50\n",
      "torch.Size([4, 1])\n",
      "torch.Size([4, 50])\n",
      "NestedTensor(size=(4, j13), offsets=tensor([ 0, 23, 73, 83, 88]), contiguous=True)\n"
     ]
    }
   ],
   "source": [
    "max_len = nt._max_seqlen_tensor.shape[0]\n",
    "lengths = nt.offsets().diff()\n",
    "print(max_len)\n",
    "sigma = torch.tensor([0.1, 0.2, 0.3, 0.4]).unsqueeze(-1)\n",
    "print(sigma.shape)\n",
    "sigma = sigma.expand(-1, max_len).contiguous()\n",
    "print(sigma.shape)\n",
    "sigma = torch.nested.narrow(\n",
    "    sigma, \n",
    "    dim=1,\n",
    "    start=0,\n",
    "    length=lengths,\n",
    "    layout=torch.jagged\n",
    ").contiguous()\n",
    "\n",
    "print(sigma)"
   ]
  }
 ],
 "metadata": {
  "kernelspec": {
   "display_name": ".venv",
   "language": "python",
   "name": "python3"
  },
  "language_info": {
   "codemirror_mode": {
    "name": "ipython",
    "version": 3
   },
   "file_extension": ".py",
   "mimetype": "text/x-python",
   "name": "python",
   "nbconvert_exporter": "python",
   "pygments_lexer": "ipython3",
   "version": "3.10.12"
  }
 },
 "nbformat": 4,
 "nbformat_minor": 2
}
