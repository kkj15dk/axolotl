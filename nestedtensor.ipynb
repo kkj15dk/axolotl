{
 "cells": [
  {
   "cell_type": "code",
   "execution_count": 64,
   "metadata": {
    "collapsed": false
   },
   "outputs": [],
   "source": [
    "# For tips on running notebooks in Google Colab, see\n",
    "# https://pytorch.org/tutorials/beginner/colab\n",
    "# %matplotlib inline"
   ]
  },
  {
   "cell_type": "markdown",
   "metadata": {},
   "source": [
    "Getting Started with Nested Tensors\n",
    "===================================\n",
    "\n",
    "Nested tensors generalize the shape of regular dense tensors, allowing\n",
    "for representation of ragged-sized data.\n",
    "\n",
    "-   for a regular tensor, each dimension is regular and has a size\n",
    "-   for a nested tensor, not all dimensions have regular sizes; some of\n",
    "    them are ragged\n",
    "\n",
    "Nested tensors are a natural solution for representing sequential data\n",
    "within various domains:\n",
    "\n",
    "-   in NLP, sentences can have variable lengths, so a batch of sentences\n",
    "    forms a nested tensor\n",
    "-   in CV, images can have variable shapes, so a batch of images forms a\n",
    "    nested tensor\n",
    "\n",
    "In this tutorial, we will demonstrate basic usage of nested tensors and\n",
    "motivate their usefulness for operating on sequential data of varying\n",
    "lengths with a real-world example. In particular, they are invaluable\n",
    "for building transformers that can efficiently operate on ragged\n",
    "sequential inputs. Below, we present an implementation of multi-head\n",
    "attention using nested tensors that, combined usage of `torch.compile`,\n",
    "out-performs operating naively on tensors with padding.\n",
    "\n",
    "Nested tensors are currently a prototype feature and are subject to\n",
    "change.\n"
   ]
  },
  {
   "cell_type": "code",
   "execution_count": 65,
   "metadata": {
    "collapsed": false
   },
   "outputs": [],
   "source": [
    "import numpy as np\n",
    "import timeit\n",
    "import torch\n",
    "import torch.nn.functional as F\n",
    "\n",
    "from torch import nn\n",
    "\n",
    "torch.manual_seed(1)\n",
    "np.random.seed(1)\n",
    "\n",
    "device = torch.device('cuda' if torch.cuda.is_available() else 'cpu')"
   ]
  },
  {
   "cell_type": "markdown",
   "metadata": {},
   "source": [
    "Nested tensor initialization\n",
    "============================\n",
    "\n",
    "From the Python frontend, a nested tensor can be created from a list of\n",
    "tensors. We denote nt\\[i\\] as the ith tensor component of a\n",
    "nestedtensor.\n"
   ]
  },
  {
   "cell_type": "code",
   "execution_count": 66,
   "metadata": {
    "collapsed": false
   },
   "outputs": [
    {
     "name": "stdout",
     "output_type": "stream",
     "text": [
      "nt=nested_tensor([\n",
      "  tensor([[ 0.,  1.,  2.,  3.,  4.,  5.],\n",
      "          [ 6.,  7.,  8.,  9., 10., 11.]], device='cuda:0'),\n",
      "  tensor([[ 0.,  1.,  2.,  3.,  4.,  5.],\n",
      "          [ 6.,  7.,  8.,  9., 10., 11.],\n",
      "          [12., 13., 14., 15., 16., 17.]], device='cuda:0')\n",
      "], device='cuda:0')\n"
     ]
    }
   ],
   "source": [
    "nt = torch.nested.nested_tensor([torch.arange(12).reshape(\n",
    "    2, 6), torch.arange(18).reshape(3, 6)], dtype=torch.float, device=device)\n",
    "print(f\"{nt=}\")"
   ]
  },
  {
   "cell_type": "markdown",
   "metadata": {},
   "source": [
    "By padding every underlying tensor to the same shape, a nestedtensor can\n",
    "be converted to a regular tensor.\n"
   ]
  },
  {
   "cell_type": "code",
   "execution_count": 67,
   "metadata": {
    "collapsed": false
   },
   "outputs": [
    {
     "name": "stdout",
     "output_type": "stream",
     "text": [
      "padded_out_tensor=tensor([[[ 0.,  1.,  2.,  3.,  4.,  5.],\n",
      "         [ 6.,  7.,  8.,  9., 10., 11.],\n",
      "         [ 0.,  0.,  0.,  0.,  0.,  0.]],\n",
      "\n",
      "        [[ 0.,  1.,  2.,  3.,  4.,  5.],\n",
      "         [ 6.,  7.,  8.,  9., 10., 11.],\n",
      "         [12., 13., 14., 15., 16., 17.]]], device='cuda:0')\n"
     ]
    }
   ],
   "source": [
    "padded_out_tensor = torch.nested.to_padded_tensor(nt, padding=0.0)\n",
    "print(f\"{padded_out_tensor=}\")"
   ]
  },
  {
   "cell_type": "markdown",
   "metadata": {},
   "source": [
    "All tensors posses an attribute for determining if they are nested;\n"
   ]
  },
  {
   "cell_type": "code",
   "execution_count": 68,
   "metadata": {
    "collapsed": false
   },
   "outputs": [
    {
     "name": "stdout",
     "output_type": "stream",
     "text": [
      "nt is nested: True\n",
      "padded_out_tensor is nested: False\n"
     ]
    }
   ],
   "source": [
    "print(f\"nt is nested: {nt.is_nested}\")\n",
    "print(f\"padded_out_tensor is nested: {padded_out_tensor.is_nested}\")"
   ]
  },
  {
   "cell_type": "markdown",
   "metadata": {},
   "source": [
    "It is common to construct nestedtensors from batches of irregularly\n",
    "shaped tensors. i.e. dimension 0 is assumed to be the batch dimension.\n",
    "Indexing dimension 0 gives back the first underlying tensor component.\n"
   ]
  },
  {
   "cell_type": "code",
   "execution_count": 69,
   "metadata": {
    "collapsed": false
   },
   "outputs": [
    {
     "name": "stdout",
     "output_type": "stream",
     "text": [
      "First underlying tensor component:\n",
      "tensor([[ 0.,  1.,  2.,  3.,  4.,  5.],\n",
      "        [ 6.,  7.,  8.,  9., 10., 11.]], device='cuda:0')\n",
      "last column of 2nd underlying tensor component:\n",
      "tensor([ 5., 11., 17.], device='cuda:0')\n",
      "First underlying tensor component is nested: False\n"
     ]
    }
   ],
   "source": [
    "print(\"First underlying tensor component:\", nt[0], sep='\\n')\n",
    "print(\"last column of 2nd underlying tensor component:\", nt[1, :, -1], sep='\\n')\n",
    "\n",
    "# When indexing a nestedtensor's 0th dimension, the result is a regular tensor.\n",
    "print(f\"First underlying tensor component is nested: {nt[0].is_nested}\")"
   ]
  },
  {
   "cell_type": "markdown",
   "metadata": {},
   "source": [
    "An important note is that slicing in dimension 0 has not been supported\n",
    "yet. Which means it not currently possible to construct a view that\n",
    "combines the underlying tensor components.\n"
   ]
  },
  {
   "cell_type": "markdown",
   "metadata": {},
   "source": [
    "Nested Tensor Operations\n",
    "========================\n",
    "\n",
    "As each operation must be explicitly implemented for nestedtensors,\n",
    "operation coverage for nestedtensors is currently narrower than that of\n",
    "regular tensors. For now, only basic operations such as index, dropout,\n",
    "softmax, transpose, reshape, linear, bmm are covered. However, coverage\n",
    "is being expanded. If you need certain operations, please file an\n",
    "[issue](https://github.com/pytorch/pytorch) to help us prioritize\n",
    "coverage.\n",
    "\n",
    "**reshape**\n",
    "\n",
    "The reshape op is for changing the shape of a tensor. Its full semantics\n",
    "for regular tensors can be found\n",
    "[here](https://pytorch.org/docs/stable/generated/torch.reshape.html).\n",
    "For regular tensors, when specifying the new shape, a single dimension\n",
    "may be -1, in which case it is inferred from the remaining dimensions\n",
    "and the number of elements.\n",
    "\n",
    "The semantics for nestedtensors are similar, except that -1 no longer\n",
    "infers. Instead, it inherits the old size (here 2 for `nt[0]` and 3 for\n",
    "`nt[1]`). -1 is the only legal size to specify for a jagged dimension.\n"
   ]
  },
  {
   "cell_type": "code",
   "execution_count": 70,
   "metadata": {
    "collapsed": false
   },
   "outputs": [
    {
     "name": "stdout",
     "output_type": "stream",
     "text": [
      "nt_reshaped=nested_tensor([\n",
      "  tensor([[[ 0.,  1.,  2.],\n",
      "           [ 3.,  4.,  5.]],\n",
      "  \n",
      "          [[ 6.,  7.,  8.],\n",
      "           [ 9., 10., 11.]]], device='cuda:0'),\n",
      "  tensor([[[ 0.,  1.,  2.],\n",
      "           [ 3.,  4.,  5.]],\n",
      "  \n",
      "          [[ 6.,  7.,  8.],\n",
      "           [ 9., 10., 11.]],\n",
      "  \n",
      "          [[12., 13., 14.],\n",
      "           [15., 16., 17.]]], device='cuda:0')\n",
      "], device='cuda:0')\n"
     ]
    }
   ],
   "source": [
    "nt_reshaped = nt.reshape(2, -1, 2, 3)\n",
    "print(f\"{nt_reshaped=}\")"
   ]
  },
  {
   "cell_type": "markdown",
   "metadata": {},
   "source": [
    "**transpose**\n",
    "\n",
    "The transpose op is for swapping two dimensions of a tensor. Its full\n",
    "semantics can be found\n",
    "[here](https://pytorch.org/docs/stable/generated/torch.transpose.html).\n",
    "Note that for nestedtensors dimension 0 is special; it is assumed to be\n",
    "the batch dimension, so transposes involving nestedtensor dimension 0\n",
    "are not supported.\n"
   ]
  },
  {
   "cell_type": "code",
   "execution_count": 71,
   "metadata": {
    "collapsed": false
   },
   "outputs": [
    {
     "name": "stdout",
     "output_type": "stream",
     "text": [
      "nt_transposed=nested_tensor([\n",
      "  tensor([[[ 0.,  1.,  2.],\n",
      "           [ 6.,  7.,  8.]],\n",
      "  \n",
      "          [[ 3.,  4.,  5.],\n",
      "           [ 9., 10., 11.]]], device='cuda:0'),\n",
      "  tensor([[[ 0.,  1.,  2.],\n",
      "           [ 6.,  7.,  8.],\n",
      "           [12., 13., 14.]],\n",
      "  \n",
      "          [[ 3.,  4.,  5.],\n",
      "           [ 9., 10., 11.],\n",
      "           [15., 16., 17.]]], device='cuda:0')\n",
      "], device='cuda:0')\n"
     ]
    }
   ],
   "source": [
    "nt_transposed = nt_reshaped.transpose(1, 2)\n",
    "print(f\"{nt_transposed=}\")"
   ]
  },
  {
   "cell_type": "markdown",
   "metadata": {},
   "source": [
    "**others**\n",
    "\n",
    "Other operations have the same semantics as for regular tensors.\n",
    "Applying the operation on a nestedtensor is equivalent to applying the\n",
    "operation to the underlying tensor components, with the result being a\n",
    "nestedtensor as well.\n"
   ]
  },
  {
   "cell_type": "code",
   "execution_count": 72,
   "metadata": {
    "collapsed": false
   },
   "outputs": [
    {
     "name": "stdout",
     "output_type": "stream",
     "text": [
      "Result of Matmul:\n",
      " nested_tensor([\n",
      "  tensor([[[  0.7781,   1.7332,   2.5551,  -1.7998],\n",
      "           [ -6.3416,   0.6039,   3.3571, -21.6835]],\n",
      "  \n",
      "          [[ -3.0563,   1.1609,  -6.8225,  19.4126],\n",
      "           [ -7.3476,  -0.8315, -15.4485,  44.0489]]], device='cuda:0'),\n",
      "  tensor([[[ -0.7215,   3.0998,  -0.2846,   4.7335,   3.6254],\n",
      "           [-17.8239,   9.9335,  14.5221,  25.6358,  15.9261],\n",
      "           [-34.9263,  16.7672,  29.3289,  46.5381,  28.2268]],\n",
      "  \n",
      "          [[  5.9445,   3.1823,   7.7202, -15.5639,   9.8096],\n",
      "           [ 13.5947,   9.8521,  19.5695, -38.9003,  20.3403],\n",
      "           [ 21.2450,  16.5219,  31.4188, -62.2367,  30.8710]]], device='cuda:0')\n",
      "], device='cuda:0')\n",
      "Result of Dropout:\n",
      " nested_tensor([\n",
      "  tensor([[[  0.8646,   1.9258,   2.8390,  -1.9998],\n",
      "           [ -0.0000,   0.6710,   3.7301, -24.0928]],\n",
      "  \n",
      "          [[ -3.3959,   1.2899,  -0.0000,  21.5696],\n",
      "           [ -8.1640,  -0.9239, -17.1650,  48.9432]]], device='cuda:0'),\n",
      "  tensor([[[ -0.8017,   3.4442,  -0.3162,   5.2595,   0.0000],\n",
      "           [-19.8043,  11.0372,  16.1357,  28.4842,  17.6957],\n",
      "           [-38.8070,   0.0000,  32.5877,  51.7090,  31.3631]],\n",
      "  \n",
      "          [[  6.6050,   3.5359,   8.5781, -17.2933,  10.8996],\n",
      "           [ 15.1053,  10.9468,  21.7439, -43.2226,  22.6003],\n",
      "           [ 23.6055,  18.3577,  34.9098, -69.1519,  34.3011]]], device='cuda:0')\n",
      "], device='cuda:0')\n",
      "Result of Softmax:\n",
      " nested_tensor([\n",
      "  tensor([[[8.9692e-02, 2.5920e-01, 6.4599e-01, 5.1141e-03],\n",
      "           [2.2401e-02, 4.3820e-02, 9.3378e-01, 7.7075e-13]],\n",
      "  \n",
      "          [[1.4375e-11, 1.5583e-09, 4.2900e-10, 1.0000e+00],\n",
      "           [1.5800e-25, 2.2030e-22, 1.9480e-29, 1.0000e+00]]], device='cuda:0'),\n",
      "  tensor([[[1.9859e-03, 1.3866e-01, 3.2269e-03, 8.5170e-01, 4.4272e-03],\n",
      "           [1.0679e-21, 2.6476e-08, 4.3361e-06, 9.9998e-01, 2.0634e-05],\n",
      "           [4.8915e-40, 3.4921e-23, 4.9628e-09, 1.0000e+00, 1.4585e-09]],\n",
      "  \n",
      "          [[1.2264e-02, 5.6982e-04, 8.8210e-02, 5.1257e-13, 8.9896e-01],\n",
      "           [3.8999e-04, 6.0961e-06, 2.9797e-01, 1.8180e-29, 7.0163e-01],\n",
      "           [7.9792e-06, 4.1963e-08, 6.4764e-01, 0.0000e+00, 3.5236e-01]]],\n",
      "         device='cuda:0')\n",
      "], device='cuda:0')\n"
     ]
    }
   ],
   "source": [
    "nt_mm = torch.nested.nested_tensor([torch.randn((2, 3, 4)), torch.randn((2, 3, 5))], device=device)\n",
    "nt3 = torch.matmul(nt_transposed, nt_mm)\n",
    "print(f\"Result of Matmul:\\n {nt3}\")\n",
    "\n",
    "nt4 = F.dropout(nt3, 0.1)\n",
    "print(f\"Result of Dropout:\\n {nt4}\")\n",
    "\n",
    "nt5 = F.softmax(nt4, -1)\n",
    "print(f\"Result of Softmax:\\n {nt5}\")"
   ]
  },
  {
   "cell_type": "markdown",
   "metadata": {},
   "source": [
    "Why Nested Tensor\n",
    "=================\n"
   ]
  },
  {
   "cell_type": "markdown",
   "metadata": {},
   "source": [
    "When data is sequential, it is often the case that each sample has a\n",
    "different length. For example, in a batch of sentences, each sentence\n",
    "has a different number of words. A common technique for handling varying\n",
    "sequences is to manually pad each data tensor to the same shape in order\n",
    "to form a batch. For example, we have 2 sentences with different lengths\n",
    "and a vocabulary In order to represent his as single tensor we pad with\n",
    "0 to the max length in the batch.\n"
   ]
  },
  {
   "cell_type": "code",
   "execution_count": 73,
   "metadata": {
    "collapsed": false
   },
   "outputs": [
    {
     "name": "stdout",
     "output_type": "stream",
     "text": [
      "padded_sentences=tensor([[1., 2., 0.],\n",
      "        [3., 4., 5.]])\n",
      "nested_sentences=nested_tensor([\n",
      "  tensor([1., 2.]),\n",
      "  tensor([3., 4., 5.])\n",
      "])\n"
     ]
    }
   ],
   "source": [
    "sentences = [[\"goodbye\", \"padding\"],\n",
    "             [\"embrace\", \"nested\", \"tensor\"]]\n",
    "vocabulary = {\"goodbye\": 1.0, \"padding\": 2.0,\n",
    "              \"embrace\": 3.0, \"nested\": 4.0, \"tensor\": 5.0}\n",
    "padded_sentences = torch.tensor([[1.0, 2.0, 0.0],\n",
    "                                 [3.0, 4.0, 5.0]])\n",
    "nested_sentences = torch.nested.nested_tensor([torch.tensor([1.0, 2.0]),\n",
    "                                               torch.tensor([3.0, 4.0, 5.0])])\n",
    "print(f\"{padded_sentences=}\")\n",
    "print(f\"{nested_sentences=}\")"
   ]
  },
  {
   "cell_type": "markdown",
   "metadata": {},
   "source": [
    "This technique of padding a batch of data to its max length is not\n",
    "optimal. The padded data is not needed for computation and wastes memory\n",
    "by allocating larger tensors than necessary. Further, not all operations\n",
    "have the same semnatics when applied to padded data. For matrix\n",
    "multiplications in order to ignore the padded entries, one needs to pad\n",
    "with 0 while for softmax one has to pad with -inf to ignore specific\n",
    "entries. The primary objective of nested tensor is to facilitate\n",
    "operations on ragged data using the standard PyTorch tensor UX, thereby\n",
    "eliminating the need for inefficient and complex padding and masking.\n"
   ]
  },
  {
   "cell_type": "code",
   "execution_count": 74,
   "metadata": {
    "collapsed": false
   },
   "outputs": [
    {
     "name": "stdout",
     "output_type": "stream",
     "text": [
      "tensor([[0.2689, 0.7311, 0.0000],\n",
      "        [0.0900, 0.2447, 0.6652]])\n",
      "nested_tensor([\n",
      "  tensor([0.2689, 0.7311]),\n",
      "  tensor([0.0900, 0.2447, 0.6652])\n",
      "])\n"
     ]
    }
   ],
   "source": [
    "padded_sentences_for_softmax = torch.tensor([[1.0, 2.0, float(\"-inf\")],\n",
    "                                             [3.0, 4.0, 5.0]])\n",
    "print(F.softmax(padded_sentences_for_softmax, -1))\n",
    "print(F.softmax(nested_sentences, -1))"
   ]
  },
  {
   "cell_type": "markdown",
   "metadata": {},
   "source": [
    "Let us take a look at a practical example: the multi-head attention\n",
    "component utilized in\n",
    "[Transformers](https://arxiv.org/pdf/1706.03762.pdf). We can implement\n",
    "this in such a way that it can operate on either padded or nested\n",
    "tensors.\n"
   ]
  },
  {
   "cell_type": "code",
   "execution_count": 75,
   "metadata": {
    "collapsed": false
   },
   "outputs": [],
   "source": [
    "class MultiHeadAttention(nn.Module):\n",
    "    \"\"\"\n",
    "    Computes multi-head attention. Supports nested or padded tensors.\n",
    "\n",
    "    Args:\n",
    "        E_q (int): Size of embedding dim for query\n",
    "        E_k (int): Size of embedding dim for key\n",
    "        E_v (int): Size of embedding dim for value\n",
    "        E_total (int): Total embedding dim of combined heads post input projection. Each head\n",
    "            has dim E_total // nheads\n",
    "        nheads (int): Number of heads\n",
    "        dropout_p (float, optional): Dropout probability. Default: 0.0\n",
    "    \"\"\"\n",
    "    def __init__(self, E_q: int, E_k: int, E_v: int, E_total: int,\n",
    "                 nheads: int, dropout_p: float = 0.0):\n",
    "        super().__init__()\n",
    "        self.nheads = nheads\n",
    "        self.dropout_p = dropout_p\n",
    "        self.query_proj = nn.Linear(E_q, E_total)\n",
    "        self.key_proj = nn.Linear(E_k, E_total)\n",
    "        self.value_proj = nn.Linear(E_v, E_total)\n",
    "        self.qkv_proj = nn.Linear(E_q, 3 * E_total)\n",
    "        E_out = E_q\n",
    "        self.out_proj = nn.Linear(E_total, E_out)\n",
    "        assert E_total % nheads == 0, \"Embedding dim is not divisible by nheads\"\n",
    "        self.E_head = E_total // nheads\n",
    "\n",
    "    def forward(self, query: torch.Tensor, key: torch.Tensor, value: torch.Tensor) -> torch.Tensor:\n",
    "        \"\"\"\n",
    "        Forward pass; runs the following process:\n",
    "            1. Apply input projection\n",
    "            2. Split heads and prepare for SDPA\n",
    "            3. Run SDPA\n",
    "            4. Apply output projection\n",
    "\n",
    "        Args:\n",
    "            query (torch.Tensor): query of shape (N, L_t, E_q)\n",
    "            key (torch.Tensor): key of shape (N, L_s, E_k)\n",
    "            value (torch.Tensor): value of shape (N, L_s, E_v)\n",
    "\n",
    "        Returns:\n",
    "            attn_output (torch.Tensor): output of shape (N, L_t, E_q)\n",
    "        \"\"\"\n",
    "        # # Step 1. Apply input projection\n",
    "        # # TODO: demonstrate packed projection\n",
    "        # query = self.query_proj(query)\n",
    "        # key = self.key_proj(key)\n",
    "        # value = self.value_proj(value)\n",
    "\n",
    "        query, key, value = self.qkv_proj(query).chunk(3, dim=-1)\n",
    "        print(\"hello\")\n",
    "\n",
    "        # Step 2. Split heads and prepare for SDPA\n",
    "        # reshape query, key, value to separate by head\n",
    "        # (N, L_t, E_total) -> (N, L_t, nheads, E_head) -> (N, nheads, L_t, E_head)\n",
    "        query = query.unflatten(-1, [self.nheads, self.E_head]).transpose(1, 2)\n",
    "        # (N, L_s, E_total) -> (N, L_s, nheads, E_head) -> (N, nheads, L_s, E_head)\n",
    "        key = key.unflatten(-1, [self.nheads, self.E_head]).transpose(1, 2)\n",
    "        # (N, L_s, E_total) -> (N, L_s, nheads, E_head) -> (N, nheads, L_s, E_head)\n",
    "        value = value.unflatten(-1, [self.nheads, self.E_head]).transpose(1, 2)\n",
    "\n",
    "        # Step 3. Run SDPA\n",
    "        # (N, nheads, L_t, E_head)\n",
    "        attn_output = F.scaled_dot_product_attention(\n",
    "            query, key, value, dropout_p=dropout_p, is_causal=True)\n",
    "        # (N, nheads, L_t, E_head) -> (N, L_t, nheads, E_head) -> (N, L_t, E_total)\n",
    "        attn_output = attn_output.transpose(1, 2).flatten(-2)\n",
    "\n",
    "        # Step 4. Apply output projection\n",
    "        # (N, L_t, E_total) -> (N, L_t, E_out)\n",
    "        attn_output = self.out_proj(attn_output)\n",
    "\n",
    "        return attn_output"
   ]
  },
  {
   "cell_type": "markdown",
   "metadata": {},
   "source": [
    "set hyperparameters following [the Transformer\n",
    "paper](https://arxiv.org/pdf/1706.03762.pdf)\n"
   ]
  },
  {
   "cell_type": "code",
   "execution_count": 76,
   "metadata": {
    "collapsed": false
   },
   "outputs": [],
   "source": [
    "N = 512\n",
    "E_q, E_k, E_v, E_total = 512, 512, 512, 512\n",
    "E_out = E_q\n",
    "nheads = 8"
   ]
  },
  {
   "cell_type": "markdown",
   "metadata": {},
   "source": [
    "except for dropout probability: set to 0 for correctness check\n"
   ]
  },
  {
   "cell_type": "code",
   "execution_count": 77,
   "metadata": {
    "collapsed": false
   },
   "outputs": [],
   "source": [
    "dropout_p = 0.0"
   ]
  },
  {
   "cell_type": "markdown",
   "metadata": {},
   "source": [
    "Let us generate some realistic fake data from Zipf\\'s law.\n"
   ]
  },
  {
   "cell_type": "code",
   "execution_count": 78,
   "metadata": {
    "collapsed": false
   },
   "outputs": [],
   "source": [
    "def zipf_sentence_lengths(alpha: float, batch_size: int) -> torch.Tensor:\n",
    "    # generate fake corpus by unigram Zipf distribution\n",
    "    # from wikitext-2 corpus, we get rank \".\" = 3, \"!\" = 386, \"?\" = 858\n",
    "    sentence_lengths = np.empty(batch_size, dtype=int)\n",
    "    for ibatch in range(batch_size):\n",
    "        sentence_lengths[ibatch] = 1\n",
    "        word = np.random.zipf(alpha)\n",
    "        while word != 3 and word != 386 and word != 858:\n",
    "            sentence_lengths[ibatch] += 1\n",
    "            word = np.random.zipf(alpha)\n",
    "    return torch.tensor(sentence_lengths)"
   ]
  },
  {
   "cell_type": "markdown",
   "metadata": {},
   "source": [
    "Create nested tensor batch inputs\n"
   ]
  },
  {
   "cell_type": "code",
   "execution_count": 79,
   "metadata": {
    "collapsed": false
   },
   "outputs": [],
   "source": [
    "def gen_batch(N, E_q, E_k, E_v, device):\n",
    "    # generate semi-realistic data using Zipf distribution for sentence lengths\n",
    "    sentence_lengths = zipf_sentence_lengths(alpha=1.2, batch_size=N)\n",
    "\n",
    "    # Note: the torch.jagged layout is a nested tensor layout that supports a single ragged\n",
    "    # dimension and works with torch.compile. The batch items each have shape (B, S*, D)\n",
    "    # where B = batch size, S* = ragged sequence length, and D = embedding dimension.\n",
    "    query = torch.nested.nested_tensor([\n",
    "        torch.randn(l.item(), E_q, device=device)\n",
    "        for l in sentence_lengths\n",
    "    ]) # , layout=torch.jagged)\n",
    "\n",
    "    key = torch.nested.nested_tensor([\n",
    "        torch.randn(s.item(), E_k, device=device)\n",
    "        for s in sentence_lengths\n",
    "    ], layout=torch.jagged)\n",
    "\n",
    "    value = torch.nested.nested_tensor([\n",
    "        torch.randn(s.item(), E_v, device=device)\n",
    "        for s in sentence_lengths\n",
    "    ], layout=torch.jagged)\n",
    "\n",
    "    return query, key, value, sentence_lengths\n",
    "\n",
    "query, key, value, sentence_lengths = gen_batch(N, E_q, E_k, E_v, device)"
   ]
  },
  {
   "cell_type": "markdown",
   "metadata": {},
   "source": [
    "Generate padded forms of query, key, value for comparison\n"
   ]
  },
  {
   "cell_type": "code",
   "execution_count": 80,
   "metadata": {
    "collapsed": false
   },
   "outputs": [],
   "source": [
    "def jagged_to_padded(jt, padding_val):\n",
    "    # TODO: do jagged -> padded directly when this is supported\n",
    "    return torch.nested.to_padded_tensor(\n",
    "        torch.nested.nested_tensor(list(jt.unbind())),\n",
    "        padding_val)\n",
    "\n",
    "padded_query, padded_key, padded_value = (\n",
    "    jagged_to_padded(t, 0.0) for t in (query, key, value)\n",
    ")"
   ]
  },
  {
   "cell_type": "markdown",
   "metadata": {},
   "source": [
    "Construct the model\n"
   ]
  },
  {
   "cell_type": "code",
   "execution_count": 81,
   "metadata": {
    "collapsed": false
   },
   "outputs": [],
   "source": [
    "mha = MultiHeadAttention(E_q, E_k, E_v, E_total, nheads, dropout_p).to(device=device)"
   ]
  },
  {
   "cell_type": "markdown",
   "metadata": {},
   "source": [
    "Check correctness and performance\n"
   ]
  },
  {
   "cell_type": "code",
   "execution_count": 82,
   "metadata": {
    "collapsed": false
   },
   "outputs": [
    {
     "name": "stdout",
     "output_type": "stream",
     "text": [
      "hello\n"
     ]
    },
    {
     "ename": "RuntimeError",
     "evalue": "Internal error: NestedTensorImpl doesn't support sizes. Please file an issue.",
     "output_type": "error",
     "traceback": [
      "\u001b[0;31m---------------------------------------------------------------------------\u001b[0m",
      "\u001b[0;31mRuntimeError\u001b[0m                              Traceback (most recent call last)",
      "Cell \u001b[0;32mIn[82], line 9\u001b[0m\n\u001b[1;32m      6\u001b[0m     end \u001b[38;5;241m=\u001b[39m timeit\u001b[38;5;241m.\u001b[39mdefault_timer()\n\u001b[1;32m      7\u001b[0m     \u001b[38;5;28;01mreturn\u001b[39;00m output, (end \u001b[38;5;241m-\u001b[39m begin)\n\u001b[0;32m----> 9\u001b[0m output_nested, time_nested \u001b[38;5;241m=\u001b[39m \u001b[43mbenchmark\u001b[49m\u001b[43m(\u001b[49m\u001b[43mmha\u001b[49m\u001b[43m,\u001b[49m\u001b[43m \u001b[49m\u001b[43mquery\u001b[49m\u001b[43m,\u001b[49m\u001b[43m \u001b[49m\u001b[43mkey\u001b[49m\u001b[43m,\u001b[49m\u001b[43m \u001b[49m\u001b[43mvalue\u001b[49m\u001b[43m)\u001b[49m\n\u001b[1;32m     10\u001b[0m output_padded, time_padded \u001b[38;5;241m=\u001b[39m benchmark(mha, padded_query, padded_key, padded_value)\n\u001b[1;32m     12\u001b[0m \u001b[38;5;66;03m# padding-specific step: remove output projection bias from padded entries for fair comparison\u001b[39;00m\n",
      "Cell \u001b[0;32mIn[82], line 4\u001b[0m, in \u001b[0;36mbenchmark\u001b[0;34m(func, *args, **kwargs)\u001b[0m\n\u001b[1;32m      2\u001b[0m torch\u001b[38;5;241m.\u001b[39mcuda\u001b[38;5;241m.\u001b[39msynchronize()\n\u001b[1;32m      3\u001b[0m begin \u001b[38;5;241m=\u001b[39m timeit\u001b[38;5;241m.\u001b[39mdefault_timer()\n\u001b[0;32m----> 4\u001b[0m output \u001b[38;5;241m=\u001b[39m \u001b[43mfunc\u001b[49m\u001b[43m(\u001b[49m\u001b[38;5;241;43m*\u001b[39;49m\u001b[43margs\u001b[49m\u001b[43m,\u001b[49m\u001b[43m \u001b[49m\u001b[38;5;241;43m*\u001b[39;49m\u001b[38;5;241;43m*\u001b[39;49m\u001b[43mkwargs\u001b[49m\u001b[43m)\u001b[49m\n\u001b[1;32m      5\u001b[0m torch\u001b[38;5;241m.\u001b[39mcuda\u001b[38;5;241m.\u001b[39msynchronize()\n\u001b[1;32m      6\u001b[0m end \u001b[38;5;241m=\u001b[39m timeit\u001b[38;5;241m.\u001b[39mdefault_timer()\n",
      "File \u001b[0;32m~/axolotl/.venv/lib/python3.10/site-packages/torch/nn/modules/module.py:1736\u001b[0m, in \u001b[0;36mModule._wrapped_call_impl\u001b[0;34m(self, *args, **kwargs)\u001b[0m\n\u001b[1;32m   1734\u001b[0m     \u001b[38;5;28;01mreturn\u001b[39;00m \u001b[38;5;28mself\u001b[39m\u001b[38;5;241m.\u001b[39m_compiled_call_impl(\u001b[38;5;241m*\u001b[39margs, \u001b[38;5;241m*\u001b[39m\u001b[38;5;241m*\u001b[39mkwargs)  \u001b[38;5;66;03m# type: ignore[misc]\u001b[39;00m\n\u001b[1;32m   1735\u001b[0m \u001b[38;5;28;01melse\u001b[39;00m:\n\u001b[0;32m-> 1736\u001b[0m     \u001b[38;5;28;01mreturn\u001b[39;00m \u001b[38;5;28;43mself\u001b[39;49m\u001b[38;5;241;43m.\u001b[39;49m\u001b[43m_call_impl\u001b[49m\u001b[43m(\u001b[49m\u001b[38;5;241;43m*\u001b[39;49m\u001b[43margs\u001b[49m\u001b[43m,\u001b[49m\u001b[43m \u001b[49m\u001b[38;5;241;43m*\u001b[39;49m\u001b[38;5;241;43m*\u001b[39;49m\u001b[43mkwargs\u001b[49m\u001b[43m)\u001b[49m\n",
      "File \u001b[0;32m~/axolotl/.venv/lib/python3.10/site-packages/torch/nn/modules/module.py:1747\u001b[0m, in \u001b[0;36mModule._call_impl\u001b[0;34m(self, *args, **kwargs)\u001b[0m\n\u001b[1;32m   1742\u001b[0m \u001b[38;5;66;03m# If we don't have any hooks, we want to skip the rest of the logic in\u001b[39;00m\n\u001b[1;32m   1743\u001b[0m \u001b[38;5;66;03m# this function, and just call forward.\u001b[39;00m\n\u001b[1;32m   1744\u001b[0m \u001b[38;5;28;01mif\u001b[39;00m \u001b[38;5;129;01mnot\u001b[39;00m (\u001b[38;5;28mself\u001b[39m\u001b[38;5;241m.\u001b[39m_backward_hooks \u001b[38;5;129;01mor\u001b[39;00m \u001b[38;5;28mself\u001b[39m\u001b[38;5;241m.\u001b[39m_backward_pre_hooks \u001b[38;5;129;01mor\u001b[39;00m \u001b[38;5;28mself\u001b[39m\u001b[38;5;241m.\u001b[39m_forward_hooks \u001b[38;5;129;01mor\u001b[39;00m \u001b[38;5;28mself\u001b[39m\u001b[38;5;241m.\u001b[39m_forward_pre_hooks\n\u001b[1;32m   1745\u001b[0m         \u001b[38;5;129;01mor\u001b[39;00m _global_backward_pre_hooks \u001b[38;5;129;01mor\u001b[39;00m _global_backward_hooks\n\u001b[1;32m   1746\u001b[0m         \u001b[38;5;129;01mor\u001b[39;00m _global_forward_hooks \u001b[38;5;129;01mor\u001b[39;00m _global_forward_pre_hooks):\n\u001b[0;32m-> 1747\u001b[0m     \u001b[38;5;28;01mreturn\u001b[39;00m \u001b[43mforward_call\u001b[49m\u001b[43m(\u001b[49m\u001b[38;5;241;43m*\u001b[39;49m\u001b[43margs\u001b[49m\u001b[43m,\u001b[49m\u001b[43m \u001b[49m\u001b[38;5;241;43m*\u001b[39;49m\u001b[38;5;241;43m*\u001b[39;49m\u001b[43mkwargs\u001b[49m\u001b[43m)\u001b[49m\n\u001b[1;32m   1749\u001b[0m result \u001b[38;5;241m=\u001b[39m \u001b[38;5;28;01mNone\u001b[39;00m\n\u001b[1;32m   1750\u001b[0m called_always_called_hooks \u001b[38;5;241m=\u001b[39m \u001b[38;5;28mset\u001b[39m()\n",
      "Cell \u001b[0;32mIn[75], line 56\u001b[0m, in \u001b[0;36mMultiHeadAttention.forward\u001b[0;34m(self, query, key, value)\u001b[0m\n\u001b[1;32m     51\u001b[0m \u001b[38;5;28mprint\u001b[39m(\u001b[38;5;124m\"\u001b[39m\u001b[38;5;124mhello\u001b[39m\u001b[38;5;124m\"\u001b[39m)\n\u001b[1;32m     53\u001b[0m \u001b[38;5;66;03m# Step 2. Split heads and prepare for SDPA\u001b[39;00m\n\u001b[1;32m     54\u001b[0m \u001b[38;5;66;03m# reshape query, key, value to separate by head\u001b[39;00m\n\u001b[1;32m     55\u001b[0m \u001b[38;5;66;03m# (N, L_t, E_total) -> (N, L_t, nheads, E_head) -> (N, nheads, L_t, E_head)\u001b[39;00m\n\u001b[0;32m---> 56\u001b[0m query \u001b[38;5;241m=\u001b[39m \u001b[43mquery\u001b[49m\u001b[38;5;241;43m.\u001b[39;49m\u001b[43munflatten\u001b[49m\u001b[43m(\u001b[49m\u001b[38;5;241;43m-\u001b[39;49m\u001b[38;5;241;43m1\u001b[39;49m\u001b[43m,\u001b[49m\u001b[43m \u001b[49m\u001b[43m[\u001b[49m\u001b[38;5;28;43mself\u001b[39;49m\u001b[38;5;241;43m.\u001b[39;49m\u001b[43mnheads\u001b[49m\u001b[43m,\u001b[49m\u001b[43m \u001b[49m\u001b[38;5;28;43mself\u001b[39;49m\u001b[38;5;241;43m.\u001b[39;49m\u001b[43mE_head\u001b[49m\u001b[43m]\u001b[49m\u001b[43m)\u001b[49m\u001b[38;5;241m.\u001b[39mtranspose(\u001b[38;5;241m1\u001b[39m, \u001b[38;5;241m2\u001b[39m)\n\u001b[1;32m     57\u001b[0m \u001b[38;5;66;03m# (N, L_s, E_total) -> (N, L_s, nheads, E_head) -> (N, nheads, L_s, E_head)\u001b[39;00m\n\u001b[1;32m     58\u001b[0m key \u001b[38;5;241m=\u001b[39m key\u001b[38;5;241m.\u001b[39munflatten(\u001b[38;5;241m-\u001b[39m\u001b[38;5;241m1\u001b[39m, [\u001b[38;5;28mself\u001b[39m\u001b[38;5;241m.\u001b[39mnheads, \u001b[38;5;28mself\u001b[39m\u001b[38;5;241m.\u001b[39mE_head])\u001b[38;5;241m.\u001b[39mtranspose(\u001b[38;5;241m1\u001b[39m, \u001b[38;5;241m2\u001b[39m)\n",
      "File \u001b[0;32m~/axolotl/.venv/lib/python3.10/site-packages/torch/_tensor.py:1376\u001b[0m, in \u001b[0;36mTensor.unflatten\u001b[0;34m(self, dim, sizes)\u001b[0m\n\u001b[1;32m   1374\u001b[0m     \u001b[38;5;28;01mreturn\u001b[39;00m \u001b[38;5;28msuper\u001b[39m()\u001b[38;5;241m.\u001b[39munflatten(dim, sizes, names)\n\u001b[1;32m   1375\u001b[0m \u001b[38;5;28;01melse\u001b[39;00m:\n\u001b[0;32m-> 1376\u001b[0m     \u001b[38;5;28;01mreturn\u001b[39;00m \u001b[38;5;28;43msuper\u001b[39;49m\u001b[43m(\u001b[49m\u001b[43m)\u001b[49m\u001b[38;5;241;43m.\u001b[39;49m\u001b[43munflatten\u001b[49m\u001b[43m(\u001b[49m\u001b[43mdim\u001b[49m\u001b[43m,\u001b[49m\u001b[43m \u001b[49m\u001b[43msizes\u001b[49m\u001b[43m)\u001b[49m\n",
      "\u001b[0;31mRuntimeError\u001b[0m: Internal error: NestedTensorImpl doesn't support sizes. Please file an issue."
     ]
    }
   ],
   "source": [
    "def benchmark(func, *args, **kwargs):\n",
    "    torch.cuda.synchronize()\n",
    "    begin = timeit.default_timer()\n",
    "    output = func(*args, **kwargs)\n",
    "    torch.cuda.synchronize()\n",
    "    end = timeit.default_timer()\n",
    "    return output, (end - begin)\n",
    "\n",
    "output_nested, time_nested = benchmark(mha, query, key, value)\n",
    "output_padded, time_padded = benchmark(mha, padded_query, padded_key, padded_value)\n",
    "\n",
    "# padding-specific step: remove output projection bias from padded entries for fair comparison\n",
    "for i, entry_length in enumerate(sentence_lengths):\n",
    "    output_padded[i, entry_length:] = 0.0\n",
    "\n",
    "print(\"=== without torch.compile ===\")\n",
    "print(\"nested and padded calculations differ by\", (jagged_to_padded(output_nested, 0.0) - output_padded).abs().max().item())\n",
    "print(\"nested tensor multi-head attention takes\", time_nested, \"seconds\")\n",
    "print(\"padded tensor multi-head attention takes\", time_padded, \"seconds\")\n",
    "\n",
    "# warm up compile first...\n",
    "compiled_mha = torch.compile(mha)\n",
    "compiled_mha(query, key, value)\n",
    "# ...now benchmark\n",
    "compiled_output_nested, compiled_time_nested = benchmark(\n",
    "    compiled_mha, query, key, value)\n",
    "\n",
    "# warm up compile first...\n",
    "compiled_mha(padded_query, padded_key, padded_value)\n",
    "# ...now benchmark\n",
    "compiled_output_padded, compiled_time_padded = benchmark(\n",
    "    compiled_mha, padded_query, padded_key, padded_value)\n",
    "\n",
    "# padding-specific step: remove output projection bias from padded entries for fair comparison\n",
    "for i, entry_length in enumerate(sentence_lengths):\n",
    "    compiled_output_padded[i, entry_length:] = 0.0\n",
    "\n",
    "print(\"=== with torch.compile ===\")\n",
    "print(\"nested and padded calculations differ by\", (jagged_to_padded(compiled_output_nested, 0.0) - compiled_output_padded).abs().max().item())\n",
    "print(\"nested tensor multi-head attention takes\", compiled_time_nested, \"seconds\")\n",
    "print(\"padded tensor multi-head attention takes\", compiled_time_padded, \"seconds\")"
   ]
  },
  {
   "cell_type": "markdown",
   "metadata": {},
   "source": [
    "Note that without `torch.compile`, the overhead of the python subclass\n",
    "nested tensor can make it slower than the equivalent computation on\n",
    "padded tensors. However, once `torch.compile` is enabled, operating on\n",
    "nested tensors gives a multiple x speedup. Avoiding wasted computation\n",
    "on padding becomes only more valuable as the percentage of padding in\n",
    "the batch increases.\n"
   ]
  },
  {
   "cell_type": "code",
   "execution_count": 63,
   "metadata": {
    "collapsed": false
   },
   "outputs": [
    {
     "name": "stdout",
     "output_type": "stream",
     "text": [
      "Nested speedup: 15.712\n"
     ]
    }
   ],
   "source": [
    "print(f\"Nested speedup: {compiled_time_padded / compiled_time_nested:.3f}\")"
   ]
  },
  {
   "cell_type": "markdown",
   "metadata": {},
   "source": [
    "Conclusion\n",
    "==========\n",
    "\n",
    "In this tutorial, we have learned how to perform basic operations with\n",
    "nested tensors and how implement multi-head attention for transformers\n",
    "in a way that avoids computation on padding. For more information, check\n",
    "out the docs for the\n",
    "[torch.nested](https://pytorch.org/docs/stable/nested.html) namespace.\n"
   ]
  }
 ],
 "metadata": {
  "kernelspec": {
   "display_name": ".venv",
   "language": "python",
   "name": "python3"
  },
  "language_info": {
   "codemirror_mode": {
    "name": "ipython",
    "version": 3
   },
   "file_extension": ".py",
   "mimetype": "text/x-python",
   "name": "python",
   "nbconvert_exporter": "python",
   "pygments_lexer": "ipython3",
   "version": "3.10.12"
  }
 },
 "nbformat": 4,
 "nbformat_minor": 0
}
